{
 "cells": [
  {
   "cell_type": "markdown",
   "metadata": {},
   "source": [
    "# WeatherPy\n",
    "----\n",
    "\n",
    "#### Note\n",
    "* Instructions have been included for each segment. You do not have to follow them exactly, but they are included to help you think through the steps."
   ]
  },
  {
   "cell_type": "code",
   "execution_count": 1,
   "metadata": {
    "scrolled": true
   },
   "outputs": [],
   "source": [
    "# Dependencies and Setup\n",
    "import matplotlib.pyplot as plt\n",
    "import pandas as pd\n",
    "import numpy as np\n",
    "import requests\n",
    "import time\n",
    "from scipy.stats import linregress\n",
    "\n",
    "# Import API key\n",
    "from api_keys import weather_api_key\n",
    "\n",
    "# Incorporated citipy to determine city based on latitude and longitude\n",
    "from citipy import citipy\n",
    "\n",
    "# Output File (CSV)\n",
    "output_data_file = \"output_data/cities.csv\"\n",
    "\n",
    "# Range of latitudes and longitudes\n",
    "lat_range = (-90, 90)\n",
    "lng_range = (-180, 180)"
   ]
  },
  {
   "cell_type": "markdown",
   "metadata": {},
   "source": [
    "## Generate Cities List"
   ]
  },
  {
   "cell_type": "code",
   "execution_count": 2,
   "metadata": {},
   "outputs": [
    {
     "data": {
      "text/plain": [
       "637"
      ]
     },
     "execution_count": 2,
     "metadata": {},
     "output_type": "execute_result"
    }
   ],
   "source": [
    "# List for holding lat_lngs and cities\n",
    "lat_lngs = []\n",
    "cities = []\n",
    "\n",
    "# Create a set of random lat and lng combinations\n",
    "lats = np.random.uniform(lat_range[0], lat_range[1], size=1500)\n",
    "lngs = np.random.uniform(lng_range[0], lng_range[1], size=1500)\n",
    "lat_lngs = zip(lats, lngs)\n",
    "\n",
    "# Identify nearest city for each lat, lng combination\n",
    "for lat_lng in lat_lngs:\n",
    "    city = citipy.nearest_city(lat_lng[0], lat_lng[1]).city_name\n",
    "    \n",
    "    # If the city is unique, then add it to a our cities list\n",
    "    if city not in cities:\n",
    "        cities.append(city)\n",
    "\n",
    "# Print the city count to confirm sufficient count\n",
    "len(cities)"
   ]
  },
  {
   "cell_type": "code",
   "execution_count": 3,
   "metadata": {},
   "outputs": [
    {
     "name": "stdout",
     "output_type": "stream",
     "text": [
      "['ternate', 'dikson', 'de-kastri', 'tuktoyaktuk', 'atuona', 'vaini', 'bengkulu', 'san ramon', 'kirakira', 'alghero', 'hithadhoo', 'coxim', 'yellowknife', 'naze', 'sentyabrskiy', 'saleaula', 'busselton', 'barrow', 'iki-burul', 'ponta do sol', 'zambezi', 'port lincoln', 'norman wells', 'hermanus', 'avarua', 'bredasdorp', 'hilo', 'cayenne', 'maniitsoq', 'marienburg', 'nikolskoye', 'rikitea', 'cidreira', 'dali', 'butaritari', 'qaanaaq', 'albany', 'samusu', 'kapaa', 'kuche', 'saskylakh', 'emerald', 'nanortalik', 'kiunga', 'dedovichi', 'jacareacanga', 'belushya guba', 'souillac', 'nizhneyansk', 'bowen', 'wanning', 'punta arenas', 'taolanaro', 'pokhara', 'rawannawi', 'mondlo', 'lata', 'seabra', 'maraa', 'bonito', 'pevek', 'beringovskiy', 'mataura', 'davenda', 'kamaishi', 'lavrentiya', 'sant julia de loria', 'morgantown', 'sidi qasim', 'pudozh', 'tacuarembo', 'trat', 'tuatapere', 'olean', 'acapulco', 'faanui', 'dudinka', 'talnakh', 'mehamn', 'malanje', 'fort nelson', 'manacapuru', 'goderich', 'ribeira grande', 'hobart', 'male', 'rochegda', 'vestmannaeyjar', 'chuy', 'tres picos', 'bambous virieux', 'kedrovyy', 'slave lake', 'carnarvon', 'manzil tamim', 'chicama', 'bluff', 'grand river south east', 'kodiak', 'oranjemund', 'bethel', 'dergaon', 'port alfred', 'ajdabiya', 'kenai', 'cape town', 'ayame', 'mayna', 'mabaruma', 'sorvag', 'ulaangom', 'ucluelet', 'victoria', 'mount gambier', 'kamenskoye', 'ushuaia', 'port hedland', 'marawi', 'nouadhibou', 'novobirilyussy', 'attawapiskat', 'saint-leu', 'hare bay', 'jamestown', 'leningradskiy', 'galiwinku', 'chagda', 'kaeo', 'bubaque', 'provideniya', 'asau', 'ancud', 'ilulissat', 'saint-philippe', 'kununurra', 'dunedin', 'robstown', 'khatanga', 'boddam', 'baykit', 'touros', 'tshane', 'akdepe', 'aykhal', 'airai', 'aitape', 'longyearbyen', 'yaan', 'nogliki', 'trapani', 'bandarbeyla', 'katsuura', 'luderitz', 'upernavik', 'chokurdakh', 'algiers', 'tiksi', 'mar del plata', 'klaksvik', 'mayya', 'alta floresta', 'tupiza', 'kerteh', 'sinnamary', 'ola', 'xining', 'tumannyy', 'grindavik', 'port blair', 'itaituba', 'san patricio', 'tyukhtet', 'atherton', 'new norfolk', 'smithers', 'tsogni', 'kaitangata', 'pilar', 'kahului', 'georgetown', 'guerrero negro', 'iqaluit', 'araouane', 'hanmer springs', 'belaya gora', 'clyde river', 'ijaki', 'east london', 'hami', 'itoman', 'vodnyy', 'nakamura', 'broome', 'monduli', 'mahebourg', 'dawlatabad', 'la rioja', 'tezu', 'cognac', 'honningsvag', 'talcahuano', 'bac lieu', 'kalmunai', 'rio gallegos', 'sirjan', 'astana', 'bilma', 'tasiilaq', 'amderma', 'arraial do cabo', 'strezhevoy', 'perelyub', 'port moresby', 'bonavista', 'lagoa', 'bharatpur', 'castro', 'rancho palos verdes', 'samarkand', 'semirom', 'marcona', 'sitka', 'saint-augustin', 'namatanai', 'santiago del estero', 'clifton', 'severo-kurilsk', 'zalantun', 'tsihombe', 'pangnirtung', 'lufilufi', 'traverse city', 'kanigiri', 'umzimvubu', 'ahar', 'naryan-mar', 'hibbing', 'pisco', 'chara', 'svetlaya', 'tayshet', 'melhus', 'puerto ayora', 'raga', 'jerome', 'birobidzhan', 'nyurba', 'ust-kulom', 'sao filipe', 'rincon', 'sao joao da barra', 'jacmel', 'santa cruz', 'tongliao', 'prince rupert', 'ryotsu', 'meulaboh', 'kangaatsiaq', 'januaria', 'sambava', 'zhigansk', 'barentsburg', 'ahipara', 'amapa', 'avera', 'thiers', 'aranos', 'assiniboia', 'palabuhanratu', 'isangel', 'bargal', 'alamosa', 'ayan', 'onalaska', 'payo', 'porto novo', 'sola', 'poum', 'saint-pierre', 'bikin', 'kavieng', 'usoke', 'verkh-usugli', 'hue', 'san fernando', 'mandalgovi', 'port pirie', 'saint george', 'berlevag', 'christchurch', 'lapa', 'abu samrah', 'mrirt', 'constitucion', 'namibe', 'alice springs', 'codrington', 'suixi', 'fare', 'cherskiy', 'te anau', 'sembabule', 'eyl', 'seoul', 'vardo', 'baruun-urt', 'taoudenni', 'kulachi', 'bolobo', 'cazones', 'hanko', 'polunochnoye', 'el alto', 'ludvika', 'vao', 'vana-vigala', 'ust-nera', 'le port', 'arman', 'oriximina', 'estelle', 'saldanha', 'tucumcari', 'hofn', 'kashirskoye', 'illoqqortoormiut', 'itanagar', 'debre tabor', 'necochea', 'yanam', 'sokolo', 'esso', 'aflu', 'salalah', 'bisira', 'shimoda', 'sangar', 'pyay', 'lengshuijiang', 'grand centre', 'kondinskoye', 'portree', 'mount isa', 'bloomfield', 'esperance', 'port elizabeth', 'griffin', 'ixtapa', 'leh', 'straumen', 'caravelas', 'adrar', 'antofagasta', 'rawson', 'aklavik', 'norden', 'bongandanga', 'shaowu', 'ulladulla', 'komsomolskiy', 'mys shmidta', 'zyryanka', 'lompoc', 'tessalit', 'bad lippspringe', 'coloso', 'ylivieska', 'buin', 'whitehorse', 'pajapan', 'hurricane', 'baryatino', 'vincennes', 'dingle', 'ponyri', 'dubbo', 'celina', 'aboisso', 'san luis', 'krasnokamensk', 'goose creek', 'poso', 'palmer', 'nuuk', 'samalaeulu', 'hammerfest', 'grootfontein', 'riachao das neves', 'gazanjyk', 'vaitupu', 'tutoia', 'erenhot', 'bucine', 'flin flon', 'chamba', 'yagodnoye', 'la ronge', 'haapiti', 'teixeira', 'narsaq', 'cam pha', 'abu zabad', 'galle', 'lazaro cardenas', 'siavonga', 'formosa', 'port-gentil', 'salvador', 'honiara', 'geraldton', 'bathsheba', 'boa vista', 'punta umbria', 'saquarema', 'san juan del sur', 'atar', 'yantal', 'faya', 'manokwari', 'port keats', 'perth', 'pavlodar', 'sonoita', 'inhambane', 'hay river', 'abonnema', 'bangkalan', 'zhongshu', 'hervey bay', 'saveh', 'missoula', 'viligili', 'kabare', 'sanmenxia', 'ketchikan', 'lebu', 'panguna', 'buraydah', 'mgachi', 'tondano', 'harper', 'brae', 'valparaiso', 'beipiao', 'haines junction', 'kokemaki', 'ust-koksa', 'guadalupe victoria', 'gardendale', 'nokaneng', 'udachnyy', 'kudus', 'san quintin', 'port shepstone', 'uri', 'agirish', 'cloquet', 'labutta', 'mgandu', 'khonuu', 'coihaique', 'severnyy', 'turukhansk', 'vieques', 'orlik', 'ankang', 'bjerkvik', 'murygino', 'maumere', 'tocopilla', 'bijie', 'mitzic', 'champerico', 'bardiyah', 'iacu', 'gorodets', 'ta khmau', 'ahuimanu', 'ullapool', 'asmar', 'nichinan', 'sebrovo', 'umm lajj', 'half moon bay', 'ontario', 'abha', 'liverpool', 'bozeman', 'cabo san lucas', 'karratha', 'shingu', 'maltahohe', 'vallenar', 'formoso do araguaia', 'yulara', 'hambantota', 'kaseda', 'kudahuvadhoo', 'ye', 'belint', 'los llanos de aridane', 'ormara', 'kargil', 'ukiah', 'ampanihy', 'iquitos', 'corralillo', 'mezen', 'aksu', 'kuvshinovo', 'yar-sale', 'fortuna', 'kingsville', 'ugoofaaru', 'chernyshevskiy', 'san cristobal', 'akyab', 'ashqelon', 'skeldon', 'manono', 'hargeysa', 'sibundoy', 'doha', 'bozhou', 'kremenchuk', 'sao felix do xingu', 'priiskovyy', 'thompson', 'albanel', 'peleduy', 'coruripe', 'buala', 'tual', 'ndjole', 'qaqortoq', 'nicolas bravo', 'lorengau', 'kalevala', 'oktyabrskoye', 'puerto escondido', 'vostok', 'mayo', 'karkaralinsk', 'kwinana', 'concepcion', 'ambodifototra', 'le vauclin', 'lasa', 'hobyo', 'tall kayf', 'penalva', 'kharitonovo', 'korla', 'alta', 'matara', 'vrangel', 'boralday', 'lashio', 'rock sound', 'kuito', 'dobrinka', 'kidal', 'mao', 'meyungs', 'terney', 'innisfail', 'kijang', 'deder', 'suleja', 'sulina', 'tautira', 'quballat', 'burnie', 'kruisfontein', 'puerto baquerizo moreno', 'hoquiam', 'vinderup', 'kernersville', 'tongchuan', 'lewisburg', 'muros', 'high level', 'tevaitoa', 'antibes', 'deputatskiy', 'melendugno', 'somerset west', 'coquimbo', 'iquique', 'filingue', 'troitsko-pechorsk', 'simdega', 'iisalmi', 'waipawa', 'aromashevo', 'grand gaube', 'fort frances', 'kiomboi', 'hasaki', 'tabas', 'hulan', 'zeya', 'port hardy', 'santa luzia', 'sisophon', 'benghazi', 'conceicao do araguaia', 'banda aceh', 'luganville', 'folldal', 'flinders', 'kazanskaya', 'acheng', 'hoi an', 'margate', 'tsaratanana', 'ewa beach', 'wattegama', 'salekhard', 'bom jesus', 'srednekolymsk', 'labrea', 'samarai', 'youghal', 'gornopravdinsk', 'san policarpo', 'barbar', 'ambon', 'bilibino', 'tupi paulista', 'griffith', 'ostrovnoy', 'jardim', 'siedlce', 'coahuayana', 'gdansk', 'jiroft']\n"
     ]
    }
   ],
   "source": [
    "print(cities)\n"
   ]
  },
  {
   "cell_type": "markdown",
   "metadata": {},
   "source": [
    "### Perform API Calls\n",
    "* Perform a weather check on each city using a series of successive API calls.\n",
    "* Include a print log of each city as it'sbeing processed (with the city number and city name).\n"
   ]
  },
  {
   "cell_type": "code",
   "execution_count": null,
   "metadata": {
    "scrolled": true
   },
   "outputs": [],
   "source": [
    "# set up url links for the loop\n",
    "base_url = \"http://api.openweathermap.org/data/2.5/weather?\"\n",
    "unit = \"imperial\"\n",
    "query_url = f\"{base_url}appid={weather_api_key}&unit={unit}&q=\"\n",
    "\n",
    "# create weather df\n",
    "weather_df = pd.DataFrame({\"City\":cities})\n",
    "# create columns for the df based on instructions\n",
    "weather_df[\"Country\"] = \"\"\n",
    "weather_df[\"Date\"] = \"\"      \n",
    "weather_df[\"Latitude\"] = \"\"\n",
    "weather_df[\"Longitude\"] = \"\"\n",
    "weather_df[\"Cloudiness (%)\"] = \"\"\n",
    "weather_df[\"Humidity (%)\"] = \"\"\n",
    "weather_df[\"Max Temp (F)\"] = \"\"\n",
    "weather_df[\"Wind Speed (mph)\"] = \"\"\n",
    "\n",
    "http://api.openweathermap.org/data/2.5/weather?appid=9f279ee247f401a2fed6c4a1e1d70758\n",
    "&q=buta\n",
    "\n",
    "# set up print statement\n",
    "print(\"Start Data Pull\")\n",
    "print(\"---------------\")\n",
    "\n",
    "# set up a for loop for each city name in the city list and add to df\n",
    "\n",
    "record = 0\n",
    "sets = 1\n",
    "\n",
    "#for index, row in weather_df.iterrows():\n",
    "    \n",
    " #   city = row[\"City\"]\n",
    "    \n",
    "  #  query_url = base_url + \"appid=\" + weather_api_key + \"&q=\" + city\n",
    "   # weather_response = requests.get(query_url).json()\n",
    " \n",
    "   # try:\n",
    "    #    print(f\"Processing Record {record}  of Set {sets} | {city}.\")\n",
    "        #print (query_url) \n",
    "        \n",
    "     #   weather_df.loc[index, \"Country\"] = weather_response[\"sys\"][\"country\"]     \n",
    "     #   weather_df.loc[index, \"Date\"] = datetime.datetime.fromtimestamp(weather_response[\"dt\"])\n",
    "     #   weather_df.loc[index, \"Latitude\"] = weather_response[\"coord\"][\"lat\"]\n",
    "     #   weather_df.loc[index, \"Longitude\"] = weather_response[\"coord\"][\"lon\"]\n",
    "     #   weather_df.loc[index, \"Cloudiness (%)\"] = weather_response[\"clouds\"][\"all\"]\n",
    "     #   weather_df.loc[index, \"Humidity (%)\"] = weather_response[\"main\"][\"humidity\"]\n",
    "     #   weather_df.loc[index, \"Max Temp (F)\"] = 1.8 * (weather_response[\"main\"][\"temp_max\"] - 273) + 32\n",
    "     #   weather_df.loc[index, \"Wind Speed (mph)\"] = weather_response[\"wind\"][\"speed\"]\n",
    "               \n",
    "  #  except:\n",
    "   #     print(f\"City not found...skipping {city}.\")\n",
    "  #      #print (query_url) \n",
    "        \n",
    "    \n",
    "   # record = record + 1\n",
    "   # if record == 50:\n",
    "    #    record = 0\n",
    "     #   sets = sets + 1 \n",
    "\n",
    "print(\"-----------------------------\")        \n",
    "print(\"Data Retrieval Complete\")\n",
    "print(\"-----------------------------\")\n",
    "\n"
   ]
  },
  {
   "cell_type": "code",
   "execution_count": null,
   "metadata": {},
   "outputs": [],
   "source": [
    "#weather_df.count()\n",
    "weather_df.head(100)"
   ]
  },
  {
   "cell_type": "markdown",
   "metadata": {},
   "source": [
    "### Convert Raw Data to DataFrame\n",
    "* Export the city data into a .csv.\n",
    "* Display the DataFrame"
   ]
  },
  {
   "cell_type": "code",
   "execution_count": null,
   "metadata": {},
   "outputs": [],
   "source": []
  },
  {
   "cell_type": "code",
   "execution_count": null,
   "metadata": {},
   "outputs": [],
   "source": []
  },
  {
   "cell_type": "markdown",
   "metadata": {},
   "source": [
    "## Inspect the data and remove the cities where the humidity > 100%.\n",
    "----\n",
    "Skip this step if there are no cities that have humidity > 100%. "
   ]
  },
  {
   "cell_type": "code",
   "execution_count": null,
   "metadata": {},
   "outputs": [],
   "source": []
  },
  {
   "cell_type": "code",
   "execution_count": null,
   "metadata": {},
   "outputs": [],
   "source": [
    "#  Get the indices of cities that have humidity over 100%.\n"
   ]
  },
  {
   "cell_type": "code",
   "execution_count": null,
   "metadata": {},
   "outputs": [],
   "source": [
    "# Make a new DataFrame equal to the city data to drop all humidity outliers by index.\n",
    "# Passing \"inplace=False\" will make a copy of the city_data DataFrame, which we call \"clean_city_data\".\n"
   ]
  },
  {
   "cell_type": "code",
   "execution_count": null,
   "metadata": {
    "collapsed": true
   },
   "outputs": [],
   "source": [
    "\n"
   ]
  },
  {
   "cell_type": "markdown",
   "metadata": {},
   "source": [
    "## Plotting the Data\n",
    "* Use proper labeling of the plots using plot titles (including date of analysis) and axes labels.\n",
    "* Save the plotted figures as .pngs."
   ]
  },
  {
   "cell_type": "markdown",
   "metadata": {},
   "source": [
    "## Latitude vs. Temperature Plot"
   ]
  },
  {
   "cell_type": "code",
   "execution_count": null,
   "metadata": {
    "scrolled": true
   },
   "outputs": [],
   "source": []
  },
  {
   "cell_type": "markdown",
   "metadata": {},
   "source": [
    "## Latitude vs. Humidity Plot"
   ]
  },
  {
   "cell_type": "code",
   "execution_count": null,
   "metadata": {},
   "outputs": [],
   "source": []
  },
  {
   "cell_type": "markdown",
   "metadata": {},
   "source": [
    "## Latitude vs. Cloudiness Plot"
   ]
  },
  {
   "cell_type": "code",
   "execution_count": null,
   "metadata": {},
   "outputs": [],
   "source": []
  },
  {
   "cell_type": "markdown",
   "metadata": {},
   "source": [
    "## Latitude vs. Wind Speed Plot"
   ]
  },
  {
   "cell_type": "code",
   "execution_count": null,
   "metadata": {},
   "outputs": [],
   "source": []
  },
  {
   "cell_type": "markdown",
   "metadata": {},
   "source": [
    "## Linear Regression"
   ]
  },
  {
   "cell_type": "code",
   "execution_count": null,
   "metadata": {
    "collapsed": true
   },
   "outputs": [],
   "source": []
  },
  {
   "cell_type": "markdown",
   "metadata": {},
   "source": [
    "####  Northern Hemisphere - Max Temp vs. Latitude Linear Regression"
   ]
  },
  {
   "cell_type": "code",
   "execution_count": null,
   "metadata": {},
   "outputs": [],
   "source": []
  },
  {
   "cell_type": "markdown",
   "metadata": {},
   "source": [
    "####  Southern Hemisphere - Max Temp vs. Latitude Linear Regression"
   ]
  },
  {
   "cell_type": "code",
   "execution_count": null,
   "metadata": {},
   "outputs": [],
   "source": []
  },
  {
   "cell_type": "markdown",
   "metadata": {},
   "source": [
    "####  Northern Hemisphere - Humidity (%) vs. Latitude Linear Regression"
   ]
  },
  {
   "cell_type": "code",
   "execution_count": null,
   "metadata": {},
   "outputs": [],
   "source": []
  },
  {
   "cell_type": "markdown",
   "metadata": {},
   "source": [
    "####  Southern Hemisphere - Humidity (%) vs. Latitude Linear Regression"
   ]
  },
  {
   "cell_type": "code",
   "execution_count": null,
   "metadata": {},
   "outputs": [],
   "source": []
  },
  {
   "cell_type": "markdown",
   "metadata": {},
   "source": [
    "####  Northern Hemisphere - Cloudiness (%) vs. Latitude Linear Regression"
   ]
  },
  {
   "cell_type": "code",
   "execution_count": null,
   "metadata": {},
   "outputs": [],
   "source": []
  },
  {
   "cell_type": "markdown",
   "metadata": {},
   "source": [
    "####  Southern Hemisphere - Cloudiness (%) vs. Latitude Linear Regression"
   ]
  },
  {
   "cell_type": "code",
   "execution_count": null,
   "metadata": {},
   "outputs": [],
   "source": []
  },
  {
   "cell_type": "markdown",
   "metadata": {},
   "source": [
    "####  Northern Hemisphere - Wind Speed (mph) vs. Latitude Linear Regression"
   ]
  },
  {
   "cell_type": "code",
   "execution_count": null,
   "metadata": {},
   "outputs": [],
   "source": []
  },
  {
   "cell_type": "markdown",
   "metadata": {},
   "source": [
    "####  Southern Hemisphere - Wind Speed (mph) vs. Latitude Linear Regression"
   ]
  },
  {
   "cell_type": "code",
   "execution_count": null,
   "metadata": {},
   "outputs": [],
   "source": []
  },
  {
   "cell_type": "code",
   "execution_count": null,
   "metadata": {
    "collapsed": true
   },
   "outputs": [],
   "source": []
  }
 ],
 "metadata": {
  "anaconda-cloud": {},
  "kernel_info": {
   "name": "python3"
  },
  "kernelspec": {
   "display_name": "Python 3",
   "language": "python",
   "name": "python3"
  },
  "language_info": {
   "codemirror_mode": {
    "name": "ipython",
    "version": 3
   },
   "file_extension": ".py",
   "mimetype": "text/x-python",
   "name": "python",
   "nbconvert_exporter": "python",
   "pygments_lexer": "ipython3",
   "version": "3.6.3"
  },
  "latex_envs": {
   "LaTeX_envs_menu_present": true,
   "autoclose": false,
   "autocomplete": true,
   "bibliofile": "biblio.bib",
   "cite_by": "apalike",
   "current_citInitial": 1,
   "eqLabelWithNumbers": true,
   "eqNumInitial": 1,
   "hotkeys": {
    "equation": "Ctrl-E",
    "itemize": "Ctrl-I"
   },
   "labels_anchors": false,
   "latex_user_defs": false,
   "report_style_numbering": false,
   "user_envs_cfg": false
  },
  "nteract": {
   "version": "0.12.3"
  }
 },
 "nbformat": 4,
 "nbformat_minor": 2
}
